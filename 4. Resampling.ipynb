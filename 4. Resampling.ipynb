{
 "cells": [
  {
   "cell_type": "code",
   "execution_count": 1,
   "metadata": {
    "collapsed": true
   },
   "outputs": [],
   "source": [
    "import pandas as pd\n",
    "import numpy as np"
   ]
  },
  {
   "cell_type": "code",
   "execution_count": 2,
   "metadata": {
    "collapsed": true
   },
   "outputs": [],
   "source": [
    "rng = pd.date_range('1/1/2011', periods=72, freq='H')\n",
    "ts = pd.Series(np.random.randn(len(rng)), index=rng)"
   ]
  },
  {
   "cell_type": "code",
   "execution_count": 3,
   "metadata": {
    "collapsed": true
   },
   "outputs": [],
   "source": [
    "converted = ts.asfreq('45Min', method='pad')"
   ]
  },
  {
   "cell_type": "code",
   "execution_count": 4,
   "metadata": {
    "collapsed": false
   },
   "outputs": [
    {
     "data": {
      "text/plain": [
       "2011-01-01 00:00:00   -0.713127\n",
       "2011-01-01 00:45:00   -0.713127\n",
       "2011-01-01 01:30:00    0.706776\n",
       "2011-01-01 02:15:00   -0.234924\n",
       "2011-01-01 03:00:00    1.157497\n",
       "2011-01-01 03:45:00    1.157497\n",
       "2011-01-01 04:30:00   -2.713038\n",
       "2011-01-01 05:15:00    0.640156\n",
       "2011-01-01 06:00:00   -2.181554\n",
       "2011-01-01 06:45:00   -2.181554\n",
       "2011-01-01 07:30:00   -0.059065\n",
       "2011-01-01 08:15:00    1.506444\n",
       "2011-01-01 09:00:00   -1.029788\n",
       "2011-01-01 09:45:00   -1.029788\n",
       "2011-01-01 10:30:00   -0.517246\n",
       "2011-01-01 11:15:00   -0.237601\n",
       "2011-01-01 12:00:00    1.678530\n",
       "2011-01-01 12:45:00    1.678530\n",
       "2011-01-01 13:30:00    0.338479\n",
       "2011-01-01 14:15:00    1.365594\n",
       "2011-01-01 15:00:00   -0.115400\n",
       "2011-01-01 15:45:00   -0.115400\n",
       "2011-01-01 16:30:00    0.903465\n",
       "2011-01-01 17:15:00   -0.044195\n",
       "2011-01-01 18:00:00   -0.458938\n",
       "2011-01-01 18:45:00   -0.458938\n",
       "2011-01-01 19:30:00    0.930022\n",
       "2011-01-01 20:15:00   -0.216438\n",
       "2011-01-01 21:00:00    0.452608\n",
       "2011-01-01 21:45:00    0.452608\n",
       "                         ...   \n",
       "2011-01-03 00:45:00   -1.093244\n",
       "2011-01-03 01:30:00   -1.476307\n",
       "2011-01-03 02:15:00    0.427624\n",
       "2011-01-03 03:00:00   -1.713226\n",
       "2011-01-03 03:45:00   -1.713226\n",
       "2011-01-03 04:30:00   -0.810086\n",
       "2011-01-03 05:15:00    0.372948\n",
       "2011-01-03 06:00:00   -0.627759\n",
       "2011-01-03 06:45:00   -0.627759\n",
       "2011-01-03 07:30:00   -0.534790\n",
       "2011-01-03 08:15:00   -0.710288\n",
       "2011-01-03 09:00:00   -0.272694\n",
       "2011-01-03 09:45:00   -0.272694\n",
       "2011-01-03 10:30:00   -0.143589\n",
       "2011-01-03 11:15:00    0.584196\n",
       "2011-01-03 12:00:00   -0.957673\n",
       "2011-01-03 12:45:00   -0.957673\n",
       "2011-01-03 13:30:00    1.063237\n",
       "2011-01-03 14:15:00   -0.299153\n",
       "2011-01-03 15:00:00   -1.825751\n",
       "2011-01-03 15:45:00   -1.825751\n",
       "2011-01-03 16:30:00   -2.789793\n",
       "2011-01-03 17:15:00   -0.592531\n",
       "2011-01-03 18:00:00   -0.978702\n",
       "2011-01-03 18:45:00   -0.978702\n",
       "2011-01-03 19:30:00   -1.394407\n",
       "2011-01-03 20:15:00    0.692657\n",
       "2011-01-03 21:00:00    0.541754\n",
       "2011-01-03 21:45:00    0.541754\n",
       "2011-01-03 22:30:00   -1.193816\n",
       "Freq: 45T, dtype: float64"
      ]
     },
     "execution_count": 4,
     "metadata": {},
     "output_type": "execute_result"
    }
   ],
   "source": [
    "converted"
   ]
  },
  {
   "cell_type": "code",
   "execution_count": null,
   "metadata": {
    "collapsed": true
   },
   "outputs": [],
   "source": [
    "# Does asfreq change the # of rows?"
   ]
  },
  {
   "cell_type": "code",
   "execution_count": null,
   "metadata": {
    "collapsed": false
   },
   "outputs": [],
   "source": [
    "# What do the different methods do?\n",
    "# method : {‘backfill’, ‘bfill’, ‘pad’, ‘ffill’, None}"
   ]
  },
  {
   "cell_type": "code",
   "execution_count": null,
   "metadata": {
    "collapsed": false
   },
   "outputs": [],
   "source": [
    "# Might any of these methods have pitfalls from a logical point of view?"
   ]
  },
  {
   "cell_type": "code",
   "execution_count": null,
   "metadata": {
    "collapsed": true
   },
   "outputs": [],
   "source": [
    "# What's the difference between going to a higher frequency and a lower frequency?"
   ]
  },
  {
   "cell_type": "code",
   "execution_count": 6,
   "metadata": {
    "collapsed": true
   },
   "outputs": [],
   "source": [
    "converted = ts.asfreq('90Min', method = 'bfill')"
   ]
  },
  {
   "cell_type": "code",
   "execution_count": null,
   "metadata": {
    "collapsed": true
   },
   "outputs": [],
   "source": [
    "# What's different logically about going to a higher frequency vs a lower frequency? \n",
    "# What do you want to do when switching to a lower freqeuncy that is not logical when switching to a higher frequency?"
   ]
  },
  {
   "cell_type": "code",
   "execution_count": 7,
   "metadata": {
    "collapsed": false
   },
   "outputs": [
    {
     "data": {
      "text/plain": [
       "2011-01-01     1.839503\n",
       "2011-01-02    -4.238118\n",
       "2011-01-03   -14.709859\n",
       "Freq: D, dtype: float64"
      ]
     },
     "execution_count": 7,
     "metadata": {},
     "output_type": "execute_result"
    }
   ],
   "source": [
    "ts.resample('D').sum()"
   ]
  },
  {
   "cell_type": "code",
   "execution_count": null,
   "metadata": {
    "collapsed": true
   },
   "outputs": [],
   "source": [
    "# What if you want to downsample and you don't want to ffill or bfill?"
   ]
  },
  {
   "cell_type": "code",
   "execution_count": null,
   "metadata": {
    "collapsed": true
   },
   "outputs": [],
   "source": [
    "# What is the difference between .resample() and .asfreq()?"
   ]
  },
  {
   "cell_type": "code",
   "execution_count": null,
   "metadata": {
    "collapsed": true
   },
   "outputs": [],
   "source": [
    "# What are some special things you can do with .resample() you can't do with .asfreq()?\n"
   ]
  },
  {
   "cell_type": "code",
   "execution_count": null,
   "metadata": {
    "collapsed": true
   },
   "outputs": [],
   "source": []
  }
 ],
 "metadata": {
  "kernelspec": {
   "display_name": "Python 3",
   "language": "python",
   "name": "python3"
  },
  "language_info": {
   "codemirror_mode": {
    "name": "ipython",
    "version": 3
   },
   "file_extension": ".py",
   "mimetype": "text/x-python",
   "name": "python",
   "nbconvert_exporter": "python",
   "pygments_lexer": "ipython3",
   "version": "3.6.0"
  }
 },
 "nbformat": 4,
 "nbformat_minor": 0
}
